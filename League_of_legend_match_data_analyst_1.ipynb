{
  "metadata": {
    "kernelspec": {
      "language": "python",
      "display_name": "Python 3",
      "name": "python3"
    },
    "language_info": {
      "pygments_lexer": "ipython3",
      "nbconvert_exporter": "python",
      "version": "3.6.4",
      "file_extension": ".py",
      "codemirror_mode": {
        "name": "ipython",
        "version": 3
      },
      "name": "python",
      "mimetype": "text/x-python"
    },
    "colab": {
      "name": "League of legend match data analyst",
      "provenance": [],
      "include_colab_link": true
    }
  },
  "nbformat_minor": 0,
  "nbformat": 4,
  "cells": [
    {
      "cell_type": "markdown",
      "metadata": {
        "id": "view-in-github",
        "colab_type": "text"
      },
      "source": [
        "<a href=\"https://colab.research.google.com/github/sallyjun08/WIDYOU/blob/master/League_of_legend_match_data_analyst_1.ipynb\" target=\"_parent\"><img src=\"https://colab.research.google.com/assets/colab-badge.svg\" alt=\"Open In Colab\"/></a>"
      ]
    },
    {
      "source": [
        "\n",
        "# IMPORTANT: RUN THIS CELL IN ORDER TO IMPORT YOUR KAGGLE DATA SOURCES\n",
        "# TO THE CORRECT LOCATION (/kaggle/input) IN YOUR NOTEBOOK,\n",
        "# THEN FEEL FREE TO DELETE THIS CELL.\n",
        "# NOTE: THIS NOTEBOOK ENVIRONMENT DIFFERS FROM KAGGLE'S PYTHON\n",
        "# ENVIRONMENT SO THERE MAY BE MISSING LIBRARIES USED BY YOUR\n",
        "# NOTEBOOK.\n",
        "\n",
        "import os\n",
        "import sys\n",
        "from tempfile import NamedTemporaryFile\n",
        "from urllib.request import urlopen\n",
        "from urllib.parse import unquote, urlparse\n",
        "from urllib.error import HTTPError\n",
        "from zipfile import ZipFile\n",
        "import tarfile\n",
        "import shutil\n",
        "\n",
        "CHUNK_SIZE = 40960\n",
        "DATA_SOURCE_MAPPING = 'league-of-legendslol-ranked-games-2020-ver1:https%3A%2F%2Fstorage.googleapis.com%2Fkaggle-data-sets%2F586003%2F1093265%2Fbundle%2Farchive.zip%3FX-Goog-Algorithm%3DGOOG4-RSA-SHA256%26X-Goog-Credential%3Dgcp-kaggle-com%2540kaggle-161607.iam.gserviceaccount.com%252F20240528%252Fauto%252Fstorage%252Fgoog4_request%26X-Goog-Date%3D20240528T021425Z%26X-Goog-Expires%3D259200%26X-Goog-SignedHeaders%3Dhost%26X-Goog-Signature%3D558f403dc2731f8ee9ed029acf10c5caa2404252dfc64aaaffcd79b0e3bd3d7e079f324f0a8a48d1ce7f2a02e39ff2d4d8784d4405a53e747d4f56d76b0eda8db88d3a009debebd47fb85db17aa2850c76100bbf4e6e4b1cc589d4b0f4b2792049762c21553ea20a9dce2fae05ed955f1dc392768549d4cfa0f8b5abe29fe4484473dca5b2964413a96274158edc8169cd2d5c95e9de3840fda785ef4ac4ead1c7275b1dddfc448a20af0da039994d3dc73aa55c24b3bd3be561a5643ca831e9254e15065263483933fd386d8af13909e347d7dd26151da142d06fa938b86b90e374b5a22fcc7dd4fa64f59fe2abc9c375da3f885487df81f7b28f09e3708d8d'\n",
        "\n",
        "KAGGLE_INPUT_PATH='/kaggle/input'\n",
        "KAGGLE_WORKING_PATH='/kaggle/working'\n",
        "KAGGLE_SYMLINK='kaggle'\n",
        "\n",
        "!umount /kaggle/input/ 2> /dev/null\n",
        "shutil.rmtree('/kaggle/input', ignore_errors=True)\n",
        "os.makedirs(KAGGLE_INPUT_PATH, 0o777, exist_ok=True)\n",
        "os.makedirs(KAGGLE_WORKING_PATH, 0o777, exist_ok=True)\n",
        "\n",
        "try:\n",
        "  os.symlink(KAGGLE_INPUT_PATH, os.path.join(\"..\", 'input'), target_is_directory=True)\n",
        "except FileExistsError:\n",
        "  pass\n",
        "try:\n",
        "  os.symlink(KAGGLE_WORKING_PATH, os.path.join(\"..\", 'working'), target_is_directory=True)\n",
        "except FileExistsError:\n",
        "  pass\n",
        "\n",
        "for data_source_mapping in DATA_SOURCE_MAPPING.split(','):\n",
        "    directory, download_url_encoded = data_source_mapping.split(':')\n",
        "    download_url = unquote(download_url_encoded)\n",
        "    filename = urlparse(download_url).path\n",
        "    destination_path = os.path.join(KAGGLE_INPUT_PATH, directory)\n",
        "    try:\n",
        "        with urlopen(download_url) as fileres, NamedTemporaryFile() as tfile:\n",
        "            total_length = fileres.headers['content-length']\n",
        "            print(f'Downloading {directory}, {total_length} bytes compressed')\n",
        "            dl = 0\n",
        "            data = fileres.read(CHUNK_SIZE)\n",
        "            while len(data) > 0:\n",
        "                dl += len(data)\n",
        "                tfile.write(data)\n",
        "                done = int(50 * dl / int(total_length))\n",
        "                sys.stdout.write(f\"\\r[{'=' * done}{' ' * (50-done)}] {dl} bytes downloaded\")\n",
        "                sys.stdout.flush()\n",
        "                data = fileres.read(CHUNK_SIZE)\n",
        "            if filename.endswith('.zip'):\n",
        "              with ZipFile(tfile) as zfile:\n",
        "                zfile.extractall(destination_path)\n",
        "            else:\n",
        "              with tarfile.open(tfile.name) as tarfile:\n",
        "                tarfile.extractall(destination_path)\n",
        "            print(f'\\nDownloaded and uncompressed: {directory}')\n",
        "    except HTTPError as e:\n",
        "        print(f'Failed to load (likely expired) {download_url} to path {destination_path}')\n",
        "        continue\n",
        "    except OSError as e:\n",
        "        print(f'Failed to load {download_url} to path {destination_path}')\n",
        "        continue\n",
        "\n",
        "print('Data source import complete.')\n"
      ],
      "metadata": {
        "id": "Yggt5jhr-kqm"
      },
      "cell_type": "code",
      "outputs": [],
      "execution_count": null
    },
    {
      "cell_type": "code",
      "source": [
        "# This Python 3 environment comes with many helpful analytics libraries installed\n",
        "# It is defined by the kaggle/python docker image: https://github.com/kaggle/docker-python\n",
        "# For example, here's several helpful packages to load in\n",
        "\n",
        "import numpy as np # linear algebra\n",
        "import pandas as pd # data processing, CSV file I/O (e.g. pd.read_csv)\n",
        "\n",
        "# Input data files are available in the \"../input/\" directory.\n",
        "# For example, running this (by clicking run or pressing Shift+Enter) will list all files under the input directory\n",
        "\n",
        "import os\n",
        "for dirname, _, filenames in os.walk('/kaggle/input'):\n",
        "    for filename in filenames:\n",
        "        print(os.path.join(dirname, filename))\n",
        "\n",
        "# Any results you write to the current directory are saved as output."
      ],
      "metadata": {
        "_uuid": "8f2839f25d086af736a60e9eeb907d3b93b6e0e5",
        "_cell_guid": "b1076dfc-b9ad-4769-8c92-a6c4dae69d19",
        "trusted": true,
        "id": "UJsgWp5s-kqq"
      },
      "execution_count": null,
      "outputs": []
    },
    {
      "cell_type": "code",
      "source": [
        "import pickle\n",
        "import matplotlib.pyplot as plt\n",
        "import seaborn as sns\n",
        "import json\n",
        "import re\n",
        "import time\n",
        "from pandas.io.json import json_normalize\n",
        "from tqdm import tqdm_notebook"
      ],
      "metadata": {
        "_uuid": "d629ff2d2480ee46fbb7e2d37f6b5fab8052498a",
        "_cell_guid": "79c7e3d0-c299-4dcb-8224-4455121ee9b0",
        "trusted": true,
        "id": "B13fc-iA-kqs"
      },
      "execution_count": null,
      "outputs": []
    },
    {
      "cell_type": "code",
      "source": [
        "match = pd.read_pickle(\"/kaggle/input/league-of-legendslol-ranked-games-2020-ver1/match_data_version1.pickle\")"
      ],
      "metadata": {
        "trusted": true,
        "id": "XPb1DRiQ-kqt"
      },
      "execution_count": null,
      "outputs": []
    },
    {
      "cell_type": "code",
      "source": [
        "winner_df =  pd.read_pickle('../input/league-of-legendslol-ranked-games-2020-ver1/match_winner_data_version1.pickle')\n",
        "loser_df = pd.read_pickle('../input/league-of-legendslol-ranked-games-2020-ver1/match_loser_data_version1.pickle')"
      ],
      "metadata": {
        "trusted": true,
        "id": "Ubi6s3qX-kqu"
      },
      "execution_count": null,
      "outputs": []
    },
    {
      "cell_type": "code",
      "source": [
        "match"
      ],
      "metadata": {
        "trusted": true,
        "id": "w-iQBkPM-kqv"
      },
      "execution_count": null,
      "outputs": []
    },
    {
      "cell_type": "code",
      "source": [
        "match = match[match[\"gameMode\"]==\"CLASSIC\"]"
      ],
      "metadata": {
        "trusted": true,
        "id": "Kkjx3fHw-kqv"
      },
      "execution_count": null,
      "outputs": []
    },
    {
      "cell_type": "code",
      "source": [
        "match"
      ],
      "metadata": {
        "trusted": true,
        "id": "LJAXcP08-kqw"
      },
      "execution_count": null,
      "outputs": []
    },
    {
      "cell_type": "code",
      "source": [
        "match = match[[\"gameDuration\",\"gameId\",\"gameVersion\",\"participants\"]]"
      ],
      "metadata": {
        "trusted": true,
        "id": "9pCz_J4M-kqx"
      },
      "execution_count": null,
      "outputs": []
    },
    {
      "cell_type": "code",
      "source": [
        "match"
      ],
      "metadata": {
        "trusted": true,
        "id": "773b5Q5Y-kqy"
      },
      "execution_count": null,
      "outputs": []
    },
    {
      "cell_type": "code",
      "source": [
        "winner_df"
      ],
      "metadata": {
        "trusted": true,
        "id": "xJnmsEHm-kqz"
      },
      "execution_count": null,
      "outputs": []
    },
    {
      "cell_type": "code",
      "source": [
        "loser_df"
      ],
      "metadata": {
        "trusted": true,
        "id": "GKOPW9Fl-kq0"
      },
      "execution_count": null,
      "outputs": []
    },
    {
      "cell_type": "code",
      "source": [
        "match.info()"
      ],
      "metadata": {
        "trusted": true,
        "id": "FNNHUzdT-kq0"
      },
      "execution_count": null,
      "outputs": []
    },
    {
      "cell_type": "code",
      "source": [
        "match"
      ],
      "metadata": {
        "trusted": true,
        "id": "YzYZYCd6-kq0"
      },
      "execution_count": null,
      "outputs": []
    },
    {
      "cell_type": "code",
      "source": [
        "match.columns"
      ],
      "metadata": {
        "trusted": true,
        "id": "78J_qtC_-kq1"
      },
      "execution_count": null,
      "outputs": []
    },
    {
      "cell_type": "code",
      "source": [
        "match[\"gameType\"].value_counts()"
      ],
      "metadata": {
        "trusted": true,
        "id": "kEJHmZ51-kq1"
      },
      "execution_count": null,
      "outputs": []
    },
    {
      "cell_type": "code",
      "source": [
        "match['participants'].iloc[0][0]"
      ],
      "metadata": {
        "trusted": true,
        "id": "vPousaWM-kq1"
      },
      "execution_count": null,
      "outputs": []
    },
    {
      "cell_type": "code",
      "source": [
        "match['participants'].iloc[0][0][\"stats\"]"
      ],
      "metadata": {
        "trusted": true,
        "id": "gfQsU5eI-kq2"
      },
      "execution_count": null,
      "outputs": []
    },
    {
      "cell_type": "code",
      "source": [
        "match = pd.merge(match,winner_df,on='gameId',how='left')"
      ],
      "metadata": {
        "trusted": true,
        "id": "6gI8SaC4-kq2"
      },
      "execution_count": null,
      "outputs": []
    },
    {
      "cell_type": "code",
      "source": [
        "match = pd.merge(match,loser_df,on='gameId',how='left')"
      ],
      "metadata": {
        "trusted": true,
        "id": "X3fJBdMY-kq2"
      },
      "execution_count": null,
      "outputs": []
    },
    {
      "cell_type": "code",
      "source": [
        "del [[winner_df, loser_df]]"
      ],
      "metadata": {
        "trusted": true,
        "id": "SbHli_5I-kq3"
      },
      "execution_count": null,
      "outputs": []
    },
    {
      "cell_type": "code",
      "source": [
        "match = match[match[\"gameMode\"]==\"CLASSIC\"]"
      ],
      "metadata": {
        "trusted": true,
        "id": "zKkyEVbN-kq3"
      },
      "execution_count": null,
      "outputs": []
    },
    {
      "cell_type": "code",
      "source": [
        "match.columns"
      ],
      "metadata": {
        "trusted": true,
        "id": "p7Tf47iZ-kq3"
      },
      "execution_count": null,
      "outputs": []
    },
    {
      "cell_type": "code",
      "source": [
        "match.drop([\"gameCreation\",\"gameMode\",\"gameType\",\"mapId\",\"platformId\",\"status.message\",\"status.status_code\"],axis=1,inplace=True)"
      ],
      "metadata": {
        "trusted": true,
        "id": "YijNLRLm-kq3"
      },
      "execution_count": null,
      "outputs": []
    },
    {
      "cell_type": "code",
      "source": [
        "match['gameVersion'] = match['gameVersion'].str.split(\".\").map(lambda x: \"\".join(x))"
      ],
      "metadata": {
        "trusted": true,
        "id": "Sb3_btaH-kq4"
      },
      "execution_count": null,
      "outputs": []
    },
    {
      "cell_type": "code",
      "source": [
        "match"
      ],
      "metadata": {
        "trusted": true,
        "id": "X11XcIzl-kq4"
      },
      "execution_count": null,
      "outputs": []
    },
    {
      "cell_type": "code",
      "source": [
        "match.isnull().sum()"
      ],
      "metadata": {
        "trusted": true,
        "id": "hA9m_A8b-kq4"
      },
      "execution_count": null,
      "outputs": []
    },
    {
      "cell_type": "code",
      "source": [
        "match.to_pickle(\"matchpre.pkl\")"
      ],
      "metadata": {
        "trusted": true,
        "id": "5GE1QMyY-kq5"
      },
      "execution_count": null,
      "outputs": []
    },
    {
      "cell_type": "code",
      "source": [
        "match = match.astype({\"gameVersion\":int})"
      ],
      "metadata": {
        "trusted": true,
        "id": "UpXFBLDb-kq5"
      },
      "execution_count": null,
      "outputs": []
    },
    {
      "cell_type": "code",
      "source": [
        "match[\"participantIdentities\"].iloc[0]"
      ],
      "metadata": {
        "trusted": true,
        "id": "EoS_PxGs-kq5"
      },
      "execution_count": null,
      "outputs": []
    },
    {
      "cell_type": "code",
      "source": [
        "match[\"participants\"].iloc[0]"
      ],
      "metadata": {
        "trusted": true,
        "id": "4-MrOIyX-kq6"
      },
      "execution_count": null,
      "outputs": []
    },
    {
      "cell_type": "code",
      "source": [
        "use_cols = ['kills', 'assists','totalDamageDealtToChampions','goldEarned', 'visionScore','timeCCingOthers']\n",
        "stats_df = pd.DataFrame()\n",
        "for i in tqdm_notebook(30000),desc=\"total\"):\n",
        "    temp = pd.DataFrame()\n",
        "    for col in tqdm_notebook(use_cols,desc=\"columns\"):\n",
        "        cur_values = {f'{col}{j+1}': match['participants'].iloc[i][j]['stats'][col] for j in range(10)}\n",
        "        temp = pd.concat([temp, pd.Series(cur_values)], axis=0, sort=False)\n",
        "    stats_df = pd.concat([stats_df, temp], axis=1, sort=False)\n",
        "stats_df = stats_df.T.reset_index(drop=True)\n",
        "stats_df['gameId'] = match_df['gameId']\n"
      ],
      "metadata": {
        "trusted": true,
        "id": "ibLDEBvf-kq6"
      },
      "execution_count": null,
      "outputs": []
    },
    {
      "cell_type": "code",
      "source": [
        "stats_df"
      ],
      "metadata": {
        "trusted": true,
        "id": "2vDD3iO2-kq6"
      },
      "execution_count": null,
      "outputs": []
    },
    {
      "cell_type": "code",
      "source": [
        "stats_df.to_csv(\"stats.csv\",index=False)"
      ],
      "metadata": {
        "trusted": true,
        "id": "PO7IprZF-kq7"
      },
      "execution_count": null,
      "outputs": []
    },
    {
      "cell_type": "code",
      "source": [
        "vesion_date = pd.read_csv(\"/kaggle/input/lol-classic-rank-game-datakrtop-3-tier/lol_version_Date.csv\")\n",
        "\n",
        "match = pd.merge(match,vesion_date,how=\"inner\",on=\"gameVersion\")\n",
        "\n",
        "match[\"date\"] = pd.to_datetime(match[\"date\"])\n",
        "\n",
        "match[\"year\"] = match[\"date\"].dt.year\n",
        "match[\"month\"] = match[\"date\"].dt.month\n",
        "match[\"day\"] = match[\"date\"].dt.day"
      ],
      "metadata": {
        "trusted": true,
        "id": "8ZBb1pM6-kq7"
      },
      "execution_count": null,
      "outputs": []
    }
  ]
}